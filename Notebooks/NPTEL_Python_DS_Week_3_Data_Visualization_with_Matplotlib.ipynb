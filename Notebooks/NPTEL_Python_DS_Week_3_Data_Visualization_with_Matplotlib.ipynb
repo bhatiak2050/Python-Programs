{
 "cells": [
  {
   "cell_type": "markdown",
   "metadata": {},
   "source": [
    "# Data Visualization\n",
    "\n",
    "* Data visualization allows us to quickly interpret the data\n",
    "and adjust different variables to see their effect\n",
    "\n",
    "* Technology is increasingly making it easier for us to do so\n",
    "\n",
    "Why visualize data?\n",
    "* Observe the patterns\n",
    "* Identify extreme values that could be anomalies\n",
    "* Easy interpretation\n",
    "\n",
    "## Popular plotting libraries in Python\n",
    "\n",
    "| matplotlib           | to create 2D graphs and plots                                                               |\n",
    "|----------------------|---------------------------------------------------------------------------------------------|\n",
    "| pandas visualization | easy to use interface, built on Matplotlib                                                  |\n",
    "| seaborn              | provides a high-level interface for drawing attractive and informative statistical graphics |\n",
    "| ggplot               | based on R’s ggplot2, uses Grammar of Graphics                                              |\n",
    "| plotly               | can create interactive plots                                                                |"
   ]
  },
  {
   "cell_type": "markdown",
   "metadata": {},
   "source": [
    "## Matplotlib\n",
    "\n",
    "* Matplotlib is a 2D plotting library which\n",
    "produces good quality figures\n",
    "\n",
    "* Although it has its origins in emulating the\n",
    "MATLAB graphics commands, it is independent\n",
    "of MATLAB\n",
    "\n",
    "* It makes heavy use of NumPy and other\n",
    "extension code to provide good performance\n",
    "even for large arrays\n",
    "\n",
    "### Scatter Plot\n",
    "\n",
    "A scatter plot is a set of points that represents\n",
    "the values obtained for two different variables\n",
    "plotted on a horizontal and vertical axes\n",
    "\n",
    "* Scatter plots are used to convey the relationship\n",
    "between two numerical variables\n",
    "\n",
    "* Scatter plots are sometimes called correlation\n",
    "plots because they show how two variables are\n",
    "correlated"
   ]
  },
  {
   "cell_type": "code",
   "execution_count": 3,
   "metadata": {},
   "outputs": [],
   "source": [
    "import pandas as pd\n",
    "import numpy as np\n",
    "import matplotlib.pyplot as plt\n",
    "import os\n",
    "\n",
    "os.chdir('D:\\\\Downloads\\\\Datasets\\\\NPTEL')"
   ]
  },
  {
   "cell_type": "code",
   "execution_count": 18,
   "metadata": {},
   "outputs": [
    {
     "data": {
      "text/plain": [
       "(1436, 10)"
      ]
     },
     "execution_count": 18,
     "metadata": {},
     "output_type": "execute_result"
    }
   ],
   "source": [
    "cars_data = pd.read_csv('Toyota.csv',index_col=0, na_values=[\"??\",\"????\"])\n",
    "cars_data.shape"
   ]
  },
  {
   "cell_type": "code",
   "execution_count": 19,
   "metadata": {},
   "outputs": [],
   "source": [
    "# Remove Missing values\n",
    "cars_data.dropna(axis=0, inplace=True)"
   ]
  },
  {
   "cell_type": "code",
   "execution_count": 20,
   "metadata": {},
   "outputs": [
    {
     "data": {
      "text/plain": [
       "(1096, 10)"
      ]
     },
     "execution_count": 20,
     "metadata": {},
     "output_type": "execute_result"
    }
   ],
   "source": [
    "cars_data.shape"
   ]
  },
  {
   "cell_type": "code",
   "execution_count": 21,
   "metadata": {},
   "outputs": [
    {
     "data": {
      "image/png": "[encoded data removed]",
      "text/plain": [
       "<Figure size 432x288 with 1 Axes>"
      ]
     },
     "metadata": {
      "needs_background": "light"
     },
     "output_type": "display_data"
    }
   ],
   "source": [
    "# Create a scatter plot\n",
    "plt.scatter(cars_data['Age'], cars_data['Price'], c='red') # scatter(x, y, color)\n",
    "plt.title(\"Scatter plot of Price vs Age of the cars\")\n",
    "plt.xlabel('Age (months)')\n",
    "plt.ylabel('Price (euros)')\n",
    "plt.show()"
   ]
  },
  {
   "cell_type": "markdown",
   "metadata": {},
   "source": [
    "## Histogram\n",
    "\n",
    "* It is a graphical representation of data using\n",
    "bars of different heights\n",
    "* Histogram groups numbers into ranges and\n",
    "the height of each bar depicts the frequency\n",
    "of each range or bin\n",
    "\n",
    "When to use histograms?\n",
    "* To represent the frequency distribution of\n",
    "numeical variables"
   ]
  },
  {
   "cell_type": "code",
   "execution_count": 22,
   "metadata": {},
   "outputs": [
    {
     "data": {
      "text/plain": [
       "(array([ 92., 239., 331., 222., 111.,  51.,  25.,  13.,  10.,   2.]),\n",
       " array([1.000000e+00, 2.430090e+04, 4.860080e+04, 7.290070e+04,\n",
       "        9.720060e+04, 1.215005e+05, 1.458004e+05, 1.701003e+05,\n",
       "        1.944002e+05, 2.187001e+05, 2.430000e+05]),\n",
       " <a list of 10 Patch objects>)"
      ]
     },
     "execution_count": 22,
     "metadata": {},
     "output_type": "execute_result"
    },
    {
     "data": {
      "image/png": "[encoded data removed]",
      "text/plain": [
       "<Figure size 432x288 with 1 Axes>"
      ]
     },
     "metadata": {
      "needs_background": "light"
     },
     "output_type": "display_data"
    }
   ],
   "source": [
    "plt.hist(cars_data['KM'])"
   ]
  },
  {
   "cell_type": "code",
   "execution_count": 27,
   "metadata": {},
   "outputs": [
    {
     "data": {
      "image/png": "[encoded data removed]",
      "text/plain": [
       "<Figure size 432x288 with 1 Axes>"
      ]
     },
     "metadata": {
      "needs_background": "light"
     },
     "output_type": "display_data"
    }
   ],
   "source": [
    "plt.hist(cars_data['KM'],\n",
    "        color='green',\n",
    "        edgecolor='white',\n",
    "        bins=5)\n",
    "\n",
    "plt.title(\"Histogram of kilometer\")\n",
    "plt.xlabel(\"Kilometer\")\n",
    "plt.ylabel(\"Frequency\")\n",
    "plt.show()"
   ]
  },
  {
   "cell_type": "markdown",
   "metadata": {},
   "source": [
    "## Bar plot\n",
    "\n",
    "What is a bar plot?\n",
    "\n",
    "* A bar plot is a plot that presents categorical\n",
    "data with rectangular bars with lengths\n",
    "proportional to the counts that they\n",
    "represent\n",
    "\n",
    "When to use bar plot?\n",
    "\n",
    "* To represent the frequency distribution of\n",
    "categorical variables\n",
    "\n",
    "* A bar diagram makes it easy to compare sets\n",
    "of data between different groups"
   ]
  },
  {
   "cell_type": "code",
   "execution_count": 31,
   "metadata": {},
   "outputs": [
    {
     "data": {
      "image/png": "[encoded data removed]",
      "text/plain": [
       "<Figure size 432x288 with 1 Axes>"
      ]
     },
     "metadata": {
      "needs_background": "light"
     },
     "output_type": "display_data"
    }
   ],
   "source": [
    "counts = [979, 120, 12]\n",
    "fueltype=('Petrol', 'Diesel', 'CNG')\n",
    "index = np.arange(len(fueltype))\n",
    "colors = ['red', 'blue', 'cyan']\n",
    "\n",
    "plt.bar(index, counts, color=colors)\n",
    "plt.title('Bar plot of fuel types')\n",
    "plt.xlabel('Fuel Types')\n",
    "plt.ylabel('Frequency')\n",
    "plt.xticks(index, fueltype, rotation=0)\n",
    "plt.show()"
   ]
  }
 ],
 "metadata": {
  "kernelspec": {
   "display_name": "Python 3",
   "language": "python",
   "name": "python3"
  },
  "language_info": {
   "codemirror_mode": {
    "name": "ipython",
    "version": 3
   },
   "file_extension": ".py",
   "mimetype": "text/x-python",
   "name": "python",
   "nbconvert_exporter": "python",
   "pygments_lexer": "ipython3",
   "version": "3.7.4"
  }
 },
 "nbformat": 4,
 "nbformat_minor": 4
}
